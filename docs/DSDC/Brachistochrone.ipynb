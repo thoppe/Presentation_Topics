{
 "cells": [
  {
   "cell_type": "markdown",
   "metadata": {},
   "source": [
    "# Stupid Tensorflow Tricks, II\n",
    "Solving an old physics problem with Tensorflow!\n",
    "_part one [here](https://towardsdatascience.com/stupid-tensorflow-tricks-3a837194b7a0)_ \n",
    "\n",
    "## Brachistocrone problem\n",
    "What's the fastest way down a ramp? Let's solve for the height of the green dots that minimize the time."
   ]
  },
  {
   "cell_type": "markdown",
   "metadata": {},
   "source": [
    "![](figures/plane.png)"
   ]
  },
  {
   "cell_type": "code",
   "execution_count": 2,
   "metadata": {},
   "outputs": [
    {
     "name": "stdout",
     "output_type": "stream",
     "text": [
      "1.14.0\n"
     ]
    }
   ],
   "source": [
    "import tensorflow as tf\n",
    "import numpy as np\n",
    "print(tf.__version__)\n",
    "\n",
    "# This lets us see computations as soon as we run them!\n",
    "tf.enable_eager_execution()"
   ]
  },
  {
   "cell_type": "code",
   "execution_count": 3,
   "metadata": {},
   "outputs": [
    {
     "name": "stdout",
     "output_type": "stream",
     "text": [
      "<tf.Variable 'Variable:0' shape=(20,) dtype=float32, numpy=\n",
      "array([0.99      , 0.9384211 , 0.88684213, 0.83526313, 0.7836842 ,\n",
      "       0.73210526, 0.6805263 , 0.6289474 , 0.57736844, 0.5257895 ,\n",
      "       0.47421053, 0.4226316 , 0.37105262, 0.31947368, 0.26789474,\n",
      "       0.21631579, 0.16473684, 0.1131579 , 0.06157895, 0.01      ],\n",
      "      dtype=float32)>\n"
     ]
    }
   ],
   "source": [
    "# Setup the \"ramp\"\n",
    "N = 20\n",
    "width = 3\n",
    "y = tf.Variable(np.linspace(0.99, 0.01, N,), dtype=tf.float32)\n",
    "x = tf.linspace(0.0, 1.0, N+2) * width\n",
    "print(y)"
   ]
  },
  {
   "cell_type": "markdown",
   "metadata": {},
   "source": [
    "### Conservation of Energy\n",
    "$$U=K$$\n",
    "$$mgh = \\frac{1}{2}mv^2$$\n",
    "$$v = \\sqrt{2gh}$$"
   ]
  },
  {
   "cell_type": "code",
   "execution_count": 4,
   "metadata": {},
   "outputs": [
    {
     "name": "stdout",
     "output_type": "stream",
     "text": [
      "tf.Tensor(\n",
      "[0.44271865 1.0986115  1.4892596  1.7968981  2.059075   2.2914486\n",
      " 2.5023358  2.6967816  2.8781207  3.0486925  3.2102141  3.3639889\n",
      " 3.5110352  3.652166   3.788042   3.9192104  4.0461287  4.169185\n",
      " 4.2887125  4.4049973 ], shape=(20,), dtype=float32)\n"
     ]
    }
   ],
   "source": [
    "g = tf.constant(9.8)\n",
    "v = tf.sqrt(2 * g * (1 - y));\n",
    "print(v)"
   ]
  },
  {
   "cell_type": "markdown",
   "metadata": {},
   "source": [
    "# Time to roll down \n",
    "can compute for each little segment...\n",
    "$$ z(t) = z_0 + v_0 t + \\frac{1}{2}a_z t^2 = z_0 + v_0 t + \\frac{g \\sin(\\theta) t^2}{2} $$\n",
    "\n",
    "\n",
    "$$ t = \\frac{-v_0 \\pm \\sqrt{v_0^2 - 2 g \\sin(\\theta)z_0}} {g \\sin(\\theta)} $$\n",
    "\n",
    "Ugh. We have to keep track of the root: the first root if going up the ramp, the second root if we are moving up the ramp.\n",
    "\n",
    "... that's stupid and too much work. "
   ]
  },
  {
   "cell_type": "markdown",
   "metadata": {},
   "source": [
    "## Lazy physics ...\n",
    "Over a short enough time span we can ignore gravity, as long as we fix the velocity each segment.\n",
    "\n",
    "$$ z(t) = z_0 + v_0 t $$\n",
    "$$ t = z_0 / v_0  $$\n",
    "\n",
    "The change along the ramp:\n",
    "\n",
    "![](figures/plane_crop.png)\n",
    "\n",
    "$$ t = \\frac{\\sqrt{\\Delta x^2 + \\Delta y^2}}{v_0}  $$"
   ]
  },
  {
   "cell_type": "code",
   "execution_count": 5,
   "metadata": {},
   "outputs": [
    {
     "name": "stdout",
     "output_type": "stream",
     "text": [
      "tf.Tensor(\n",
      "[0.15188335 0.15188335 0.15188336 0.15188335 0.15188335 0.15188335\n",
      " 0.15188335 0.15188335 0.15188335 0.15188336 0.15188335 0.15188336\n",
      " 0.15188335 0.15188335 0.15188335 0.15188335 0.15188335 0.15188335\n",
      " 0.15188335], shape=(19,), dtype=float32)\n"
     ]
    }
   ],
   "source": [
    "dx = x[1] - x[0]\n",
    "dy = y[:-1] - y[1:]\n",
    "dz = tf.sqrt(dx ** 2 + dy ** 2)\n",
    "print(dz)"
   ]
  },
  {
   "cell_type": "markdown",
   "metadata": {},
   "source": [
    "Let's clean it up, and encapsulate it all in a function."
   ]
  },
  {
   "cell_type": "code",
   "execution_count": 6,
   "metadata": {},
   "outputs": [],
   "source": [
    "def compute_ramp(y):\n",
    "    g = tf.constant(9.8)\n",
    "    \n",
    "    # Fix the endpoints\n",
    "    y = tf.concat([[1.0], y, [0.0]], axis=0)\n",
    "    \n",
    "    # All the widths are the same\n",
    "    dx = x[1] - x[0]\n",
    "    dy = y[:-1] - y[1:]   \n",
    "    dz = tf.sqrt(dx ** 2 + dy ** 2)\n",
    "\n",
    "    # Convervation of energy\n",
    "    v = tf.sqrt(2 * g * (y[0] - y))\n",
    "    \n",
    "    # The average of the starting and ending velocity at each segment\n",
    "    avg_v = (v[1:] + v[:-1]) / 2\n",
    "\n",
    "    total_time = tf.reduce_sum(dz / avg_v)\n",
    "    return total_time"
   ]
  },
  {
   "cell_type": "code",
   "execution_count": 7,
   "metadata": {},
   "outputs": [
    {
     "name": "stdout",
     "output_type": "stream",
     "text": [
      "1.8699454\n"
     ]
    }
   ],
   "source": [
    "# For a 3x1 ramp, this should be ~ 1.34s\n",
    "print(compute_ramp(y).numpy())"
   ]
  },
  {
   "cell_type": "code",
   "execution_count": 8,
   "metadata": {},
   "outputs": [
    {
     "name": "stdout",
     "output_type": "stream",
     "text": [
      "1.2172186\n"
     ]
    }
   ],
   "source": [
    "# Oof. Let's try it with more points!\n",
    "N = 2000\n",
    "width = 3\n",
    "y = tf.Variable(np.linspace(0.90, 0,N,), dtype=tf.float32)\n",
    "x = tf.linspace(0.0, 1.0, N+2) * width\n",
    "print(compute_ramp(y).numpy())"
   ]
  },
  {
   "cell_type": "code",
   "execution_count": 11,
   "metadata": {},
   "outputs": [],
   "source": [
    "# Develop our training step\n",
    "optimizer = tf.train.AdamOptimizer(learning_rate=0.01)\n",
    "\n",
    "def train_step(y):\n",
    "    with tf.GradientTape() as tape:\n",
    "        time = compute_ramp(y)\n",
    "\n",
    "    variables = [y]\n",
    "    grads = tape.gradient(time, variables)\n",
    "    optimizer.apply_gradients(zip(grads, variables))\n",
    "\n",
    "    return time.numpy()"
   ]
  },
  {
   "cell_type": "code",
   "execution_count": 12,
   "metadata": {},
   "outputs": [],
   "source": [
    "%%capture\n",
    "import pylab as plt\n",
    "import seaborn as sns\n",
    "import matplotlib.pylab as plt\n",
    "\n",
    "fig, ax = plt.subplots(figsize=(7,4))\n",
    "plt.rcParams['figure.dpi'] = 125"
   ]
  },
  {
   "cell_type": "code",
   "execution_count": 13,
   "metadata": {},
   "outputs": [
    {
     "name": "stderr",
     "output_type": "stream",
     "text": [
      "WARNING: Logging before flag parsing goes to stderr.\n",
      "W0914 16:20:26.362680 140415724224640 deprecation.py:323] From /home/travis/.pyenv/versions/3.7.0/lib/python3.7/site-packages/tensorflow/python/ops/math_grad.py:1205: add_dispatch_support.<locals>.wrapper (from tensorflow.python.ops.array_ops) is deprecated and will be removed in a future version.\n",
      "Instructions for updating:\n",
      "Use tf.where in 2.0, which has the same broadcast rule as np.where\n"
     ]
    },
    {
     "name": "stdout",
     "output_type": "stream",
     "text": [
      "100 2.0523071289062500\n",
      "200 1.1331435441970825\n",
      "300 1.1005241870880127\n",
      "400 1.0882843732833862\n",
      "500 1.0801250934600830\n",
      "600 1.0740256309509277\n",
      "700 1.0691733360290527\n",
      "800 1.0648086071014404\n",
      "900 1.0609890222549438\n",
      "1000 1.0575046539306641\n",
      "1100 1.0536210536956787\n",
      "1200 1.0505198240280151\n",
      "1300 1.0474429130554199\n",
      "1400 1.0446676015853882\n",
      "1500 1.0417466163635254\n",
      "1600 1.0389765501022339\n",
      "1700 1.0367203950881958\n",
      "1800 1.0346320867538452\n",
      "1900 1.0379409790039062\n",
      "2000 1.0322176218032837\n",
      "2100 1.0301378965377808\n",
      "2200 1.0291011333465576\n",
      "2300 1.0288676023483276\n",
      "2400 1.0315173864364624\n",
      "2500 1.0274599790573120\n",
      "2600 1.0257347822189331\n",
      "2700 1.0300009250640869\n",
      "2800 1.0298285484313965\n",
      "2900 1.0246465206146240\n",
      "3000 1.0271040201187134\n",
      "3100 1.0240072011947632\n",
      "3200 1.0258941650390625\n",
      "3300 1.0231714248657227\n",
      "3400 1.0256932973861694\n",
      "3500 1.0229271650314331\n",
      "3600 1.0240100622177124\n",
      "3700 1.0294830799102783\n",
      "3800 1.0245485305786133\n",
      "3900 1.0244060754776001\n",
      "4000 1.0228631496429443\n",
      "4100 1.0245047807693481\n",
      "4200 1.0228533744812012\n",
      "4300 1.0226403474807739\n",
      "4400 1.0224963426589966\n",
      "4500 1.0212277173995972\n",
      "4600 1.0230530500411987\n",
      "4700 1.0235922336578369\n",
      "4800 1.0227369070053101\n",
      "4900 1.0234906673431396\n"
     ]
    }
   ],
   "source": [
    "N = 500\n",
    "width = 3\n",
    "n_steps = 5000\n",
    "\n",
    "y = tf.Variable(np.random.uniform(-1,0.5,size=(N,)), dtype=tf.float32)\n",
    "x = tf.linspace(0.0, 1.0, N+2) * width\n",
    "\n",
    "for i in range(n_steps):\n",
    "    t = train_step(y)\n",
    "\n",
    "    if i % 100 == 0 and i > 0:\n",
    "        print(f\"{i} {t:0.16f}\")\n",
    "        yx = np.hstack([[1], y.numpy(), [0]])\n",
    "        ax.plot(x.numpy(), yx, color='b',alpha=i/n_steps)"
   ]
  },
  {
   "cell_type": "code",
   "execution_count": 16,
   "metadata": {},
   "outputs": [
    {
     "data": {
      "image/png": "[encoded data removed]",
      "text/plain": [
       "<Figure size 504x288 with 1 Axes>"
      ]
     },
     "execution_count": 16,
     "metadata": {},
     "output_type": "execute_result"
    }
   ],
   "source": [
    "ax.plot(x.numpy(), yx,'r',lw=1)\n",
    "ax.plot(x.numpy(), 0*x.numpy(),'k',lw=2,alpha=0.6)\n",
    "sns.despine(ax=ax)\n",
    "fig.tight_layout()\n",
    "fig.savefig(\"figures/final_solution.png\")\n",
    "fig"
   ]
  },
  {
   "cell_type": "markdown",
   "metadata": {},
   "source": [
    "## Wikipedia solution to the [Brachistochrone](https://en.wikipedia.org/wiki/Brachistochrone_curve)\n",
    "![](figures/Brachistochrone.gif)\n",
    "we did pretty well!"
   ]
  },
  {
   "cell_type": "code",
   "execution_count": null,
   "metadata": {},
   "outputs": [],
   "source": []
  }
 ],
 "metadata": {
  "kernelspec": {
   "display_name": "Python 3",
   "language": "python",
   "name": "python3"
  },
  "language_info": {
   "codemirror_mode": {
    "name": "ipython",
    "version": 3
   },
   "file_extension": ".py",
   "mimetype": "text/x-python",
   "name": "python",
   "nbconvert_exporter": "python",
   "pygments_lexer": "ipython3",
   "version": "3.7.0"
  }
 },
 "nbformat": 4,
 "nbformat_minor": 2
}
