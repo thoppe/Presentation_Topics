{
 "cells": [
  {
   "cell_type": "markdown",
   "metadata": {},
   "source": [
    "# Stupid Tensorflow Tricks, II\n",
    "_part one [here](https://towardsdatascience.com/stupid-tensorflow-tricks-3a837194b7a0)_ \n",
    "\n",
    "Solving an old physics problem with Tensorflow!"
   ]
  },
  {
   "cell_type": "markdown",
   "metadata": {},
   "source": []
  },
  {
   "cell_type": "code",
   "execution_count": 2,
   "metadata": {},
   "outputs": [],
   "source": [
    "import tensorflow as tf\n",
    "import numpy as np\n",
    "\n",
    "# This lets us see computations as soon as we run them!\n",
    "tf.enable_eager_execution()"
   ]
  },
  {
   "cell_type": "markdown",
   "metadata": {},
   "source": [
    "![](figures/plane.png)"
   ]
  },
  {
   "cell_type": "code",
   "execution_count": 16,
   "metadata": {},
   "outputs": [
    {
     "name": "stdout",
     "output_type": "stream",
     "text": [
      "<tf.Variable 'Variable:0' shape=(20,) dtype=float32, numpy=\n",
      "array([ 0.46302518,  0.4183713 , -0.28028515,  0.0475507 , -0.2304523 ,\n",
      "        0.18602079,  0.32560644,  0.11079884,  0.08441412,  0.13487218,\n",
      "       -0.13653407, -0.17962515, -0.24021356,  0.20895633, -0.1912587 ,\n",
      "       -0.16149879, -0.46493432,  0.16459474,  0.0125544 ,  0.37988752],\n",
      "      dtype=float32)>\n"
     ]
    }
   ],
   "source": [
    "# Setup the \"ramp\"\n",
    "N = 20\n",
    "y = tf.Variable(np.random.uniform(-0.5,0.5,size=(N,),), dtype=tf.float32)\n",
    "print(y)"
   ]
  },
  {
   "cell_type": "code",
   "execution_count": 17,
   "metadata": {},
   "outputs": [
    {
     "name": "stdout",
     "output_type": "stream",
     "text": [
      "tf.Tensor(\n",
      "[3.2441804 3.376377  5.0093503 4.3206487 4.910892  3.994245  3.6356723\n",
      " 4.174727  4.236211  4.117828  4.719753  4.808394  4.930333  3.9375699\n",
      " 4.8320465 4.7713075 5.3584247 4.046473  4.3993106 3.486288 ], shape=(20,), dtype=float32)\n"
     ]
    }
   ],
   "source": [
    "# Conservation of energy U=K, mgh=(1/2)mv**2\n",
    "g = tf.constant(9.8)\n",
    "v = tf.sqrt(2 * g * (1 - y));\n",
    "print(v)"
   ]
  },
  {
   "cell_type": "code",
   "execution_count": null,
   "metadata": {},
   "outputs": [],
   "source": [
    "# Time to roll down \n",
    "# y = y0 + v0*t + (1/2)*a*t**2 => y + v*t + (1/2)*(g*sin(theta))*t**2\n",
    "# t = (-v ± sqrt(v**2 - 4*(1/2)*g*sin(theta)*y)) / (g*sin(theta))\n",
    "# ... that's stupid and too much work"
   ]
  }
 ],
 "metadata": {
  "kernelspec": {
   "display_name": "Python 3",
   "language": "python",
   "name": "python3"
  },
  "language_info": {
   "codemirror_mode": {
    "name": "ipython",
    "version": 3
   },
   "file_extension": ".py",
   "mimetype": "text/x-python",
   "name": "python",
   "nbconvert_exporter": "python",
   "pygments_lexer": "ipython3",
   "version": "3.7.0"
  }
 },
 "nbformat": 4,
 "nbformat_minor": 2
}
