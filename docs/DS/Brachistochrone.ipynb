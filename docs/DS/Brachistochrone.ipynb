{
 "cells": [
  {
   "cell_type": "markdown",
   "metadata": {},
   "source": [
    "# Stupid Tensorflow Tricks, II\n",
    "Solving an old physics problem with Tensorflow!\n",
    "_part one [here](https://towardsdatascience.com/stupid-tensorflow-tricks-3a837194b7a0)_ \n",
    "\n",
    "## Brachistocrone problem\n",
    "What's the fastest way down a ramp? We are going to solve for the height of the green dots that minimize the time."
   ]
  },
  {
   "cell_type": "markdown",
   "metadata": {},
   "source": [
    "![](figures/plane.png)"
   ]
  },
  {
   "cell_type": "code",
   "execution_count": 1,
   "metadata": {},
   "outputs": [
    {
     "name": "stdout",
     "output_type": "stream",
     "text": [
      "1.14.0\n"
     ]
    }
   ],
   "source": [
    "import tensorflow as tf\n",
    "import numpy as np\n",
    "print(tf.__version__)\n",
    "\n",
    "# This lets us see computations as soon as we run them!\n",
    "tf.enable_eager_execution()"
   ]
  },
  {
   "cell_type": "code",
   "execution_count": 2,
   "metadata": {},
   "outputs": [
    {
     "name": "stdout",
     "output_type": "stream",
     "text": [
      "<tf.Variable 'Variable:0' shape=(20,) dtype=float32, numpy=\n",
      "array([0.99      , 0.9384211 , 0.88684213, 0.83526313, 0.7836842 ,\n",
      "       0.73210526, 0.6805263 , 0.6289474 , 0.57736844, 0.5257895 ,\n",
      "       0.47421053, 0.4226316 , 0.37105262, 0.31947368, 0.26789474,\n",
      "       0.21631579, 0.16473684, 0.1131579 , 0.06157895, 0.01      ],\n",
      "      dtype=float32)>\n"
     ]
    }
   ],
   "source": [
    "# Setup the \"ramp\"\n",
    "N = 20\n",
    "width = 3\n",
    "y = tf.Variable(np.linspace(0.99, 0.01, N,), dtype=tf.float32)\n",
    "x = tf.linspace(0.0, 1.0, N+2) * width\n",
    "print(y)"
   ]
  },
  {
   "cell_type": "markdown",
   "metadata": {},
   "source": [
    "### Conservation of Energy\n",
    "$$U=K$$\n",
    "$$mgh = \\frac{1}{2}mv^2$$\n",
    "$$v = \\sqrt{2gh}$$"
   ]
  },
  {
   "cell_type": "code",
   "execution_count": 3,
   "metadata": {},
   "outputs": [
    {
     "name": "stdout",
     "output_type": "stream",
     "text": [
      "tf.Tensor(\n",
      "[0.44271865 1.0986114  1.4892597  1.7968982  2.059075   2.2914488\n",
      " 2.5023358  2.6967816  2.8781204  3.0486925  3.2102141  3.3639889\n",
      " 3.5110354  3.652166   3.7880425  3.9192102  4.0461287  4.169185\n",
      " 4.2887125  4.4049973 ], shape=(20,), dtype=float32)\n"
     ]
    }
   ],
   "source": [
    "g = tf.constant(9.8)\n",
    "v = tf.sqrt(2 * g * (1 - y));\n",
    "print(v)"
   ]
  },
  {
   "cell_type": "markdown",
   "metadata": {},
   "source": [
    "# Time to roll down \n",
    "can compute for each little segment...\n",
    "$$ z(t) = z_0 + v_0 t + \\frac{1}{2}a_z t^2 = z_0 + v_0 t + \\frac{g \\sin(\\theta) t^2}{2} $$\n",
    "\n",
    "\n",
    "$$ t = \\frac{-v_0 \\pm \\sqrt{v_0^2 - 2 g \\sin(\\theta)z_0}} {g \\sin(\\theta)} $$\n",
    "\n",
    "Ugh. We have to keep track of the root: the first root if going up the ramp, the second root if we are moving up the ramp.\n",
    "\n",
    "... that's stupid and too much work. "
   ]
  },
  {
   "cell_type": "markdown",
   "metadata": {},
   "source": [
    "## Lazy physics ...\n",
    "Over a short enough time span we can ignore gravity, as long as we fix the velocity each segment.\n",
    "\n",
    "$$ z(t) = z_0 + v_0 t $$\n",
    "$$ t = z_0 / v_0  $$\n",
    "\n",
    "The change along the ramp:\n",
    "\n",
    "![](figures/plane_crop.png)\n",
    "\n",
    "$$ t = \\sqrt{\\frac{\\Delta x^2}{\\Delta y^2}} \\frac{1}{v_0}  $$"
   ]
  },
  {
   "cell_type": "code",
   "execution_count": 4,
   "metadata": {},
   "outputs": [
    {
     "name": "stdout",
     "output_type": "stream",
     "text": [
      "tf.Tensor(\n",
      "[0.15188335 0.15188335 0.15188336 0.15188335 0.15188335 0.15188335\n",
      " 0.15188335 0.15188335 0.15188335 0.15188335 0.15188335 0.15188335\n",
      " 0.15188335 0.15188335 0.15188335 0.15188335 0.15188335 0.15188335\n",
      " 0.15188335], shape=(19,), dtype=float32)\n"
     ]
    }
   ],
   "source": [
    "dx = x[1] - x[0]\n",
    "dy = y[:-1] - y[1:]\n",
    "dz = tf.sqrt(dx ** 2 + dy ** 2)\n",
    "print(dz)"
   ]
  },
  {
   "cell_type": "markdown",
   "metadata": {},
   "source": [
    "Let's clean it up, and encapsulate it all in a function."
   ]
  },
  {
   "cell_type": "code",
   "execution_count": 5,
   "metadata": {},
   "outputs": [],
   "source": [
    "def compute_ramp(y):\n",
    "    g = tf.constant(9.8)\n",
    "    \n",
    "    # Fix the endpoints\n",
    "    y = tf.concat([[1.0], y, [0.0]], axis=0)\n",
    "    \n",
    "    dx = x[1] - x[0]\n",
    "    dy = y[:-1] - y[1:]\n",
    "\n",
    "    v = tf.sqrt(2 * g * (y[0] - y))\n",
    "    avg_v = (v[1:] + v[:-1]) / 2\n",
    "\n",
    "    dz = tf.sqrt(dx ** 2 + dy ** 2)\n",
    "\n",
    "    total_time = tf.reduce_sum(dz / avg_v)\n",
    "    return total_time\n"
   ]
  },
  {
   "cell_type": "code",
   "execution_count": 6,
   "metadata": {},
   "outputs": [
    {
     "name": "stdout",
     "output_type": "stream",
     "text": [
      "1.8699452\n"
     ]
    }
   ],
   "source": [
    "# For a 3x1 ramp, this should be ~ 1.34s\n",
    "print(compute_ramp(y).numpy())"
   ]
  },
  {
   "cell_type": "code",
   "execution_count": 7,
   "metadata": {},
   "outputs": [
    {
     "name": "stdout",
     "output_type": "stream",
     "text": [
      "1.3422576\n"
     ]
    }
   ],
   "source": [
    "# Oof. Let's try it with more points!\n",
    "N = 2000\n",
    "width = 3\n",
    "y = tf.Variable(np.linspace(0.99, 0,N,), dtype=tf.float32)\n",
    "x = tf.linspace(0.0, 1.0, N+2) * width\n",
    "print(compute_ramp(y).numpy())"
   ]
  }
 ],
 "metadata": {
  "kernelspec": {
   "display_name": "Python 3",
   "language": "python",
   "name": "python3"
  },
  "language_info": {
   "codemirror_mode": {
    "name": "ipython",
    "version": 3
   },
   "file_extension": ".py",
   "mimetype": "text/x-python",
   "name": "python",
   "nbconvert_exporter": "python",
   "pygments_lexer": "ipython3",
   "version": "3.7.0"
  }
 },
 "nbformat": 4,
 "nbformat_minor": 2
}
